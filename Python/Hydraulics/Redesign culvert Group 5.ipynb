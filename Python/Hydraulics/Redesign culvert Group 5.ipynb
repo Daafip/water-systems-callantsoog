{
 "cells": [
  {
   "cell_type": "code",
   "execution_count": 1,
   "id": "4b23cd25-7760-452b-b3d3-a21a102f6422",
   "metadata": {},
   "outputs": [],
   "source": [
    "import os\n",
    "os.environ['USE_PYGEOS'] = '0'\n",
    "import geopandas as gpd\n",
    "import pandas as pd\n",
    "import numpy as np"
   ]
  },
  {
   "cell_type": "markdown",
   "id": "bd6daffe-9c85-41dc-8112-e14699b4318a",
   "metadata": {},
   "source": [
    "Goal: design of culvert from current area into water storage area"
   ]
  },
  {
   "cell_type": "markdown",
   "id": "1b8c3be1-8d14-4fe8-b82c-5277e000e216",
   "metadata": {},
   "source": [
    "Using:\n",
    "$Q=\\mu A \\sqrt{2gz} \\to z = (\\Sigma \\zeta) \\frac{u^2}{2g}$ \n",
    "\n",
    "Strikler: $\\frac{\\delta h}{L} = \\frac{u^2}{k^2R^{\\frac{4}{3}}}$\n",
    "\n",
    "We can rewrite $\\zeta_{friction} = \\frac{2gL}{k^2R^{\\frac{4}{3}}}$\n",
    "\n",
    "And:"
   ]
  },
  {
   "cell_type": "markdown",
   "id": "970251e1-5d4c-4b4b-8ebb-9077b133b994",
   "metadata": {},
   "source": [
    "<img src=\"culvert_design_image.png\" style=\"height: 110px; width:320px\"/>"
   ]
  },
  {
   "cell_type": "markdown",
   "id": "572bd047-40c0-4635-a4d0-268018eba7af",
   "metadata": {},
   "source": [
    "using $z_{max}=5mm$, $\\zeta_{in}=0.3, \\zeta_{out}=1$"
   ]
  },
  {
   "cell_type": "markdown",
   "id": "fbbc5230-2c6c-4fd5-b28d-98a35d0ac1af",
   "metadata": {},
   "source": [
    "design situation, with of culvert topview in red on the right"
   ]
  },
  {
   "cell_type": "markdown",
   "id": "353a2b73-276d-4ab0-8aa5-d420b9ba9a09",
   "metadata": {},
   "source": [
    "<img src=\"culvert_design_new_water_storage.png\" style=\"height: 200px; width:300px\" align=\"left\"/>\n",
    "<img src=\"culvert_design_top_view.png\" style=\"height: 200px; width:300px\" align=\"cenxre\"/>"
   ]
  },
  {
   "cell_type": "markdown",
   "id": "368c37d3-4c1a-4293-b4d1-c92118125511",
   "metadata": {},
   "source": [
    "from Sobek we know the discharge should be around $0.56 [m^3/s]$\n",
    "\n",
    "$A = 0.25D^2\\pi$, $v = Q/A$"
   ]
  },
  {
   "cell_type": "code",
   "execution_count": 2,
   "id": "ad007bb1-2da3-485a-9697-7e9d3d6f8470",
   "metadata": {},
   "outputs": [],
   "source": [
    "Q = 0.56 # m^3/s\n",
    "k = 50   # m^(1/3)/s - for rought concrete culvert\n",
    "zeta_in = 0.6\n",
    "zeta_out = 1\n"
   ]
  },
  {
   "cell_type": "code",
   "execution_count": 3,
   "id": "e81ff0ff-f9ba-4ccd-a576-85d9ff914a39",
   "metadata": {},
   "outputs": [
    {
     "name": "stdout",
     "output_type": "stream",
     "text": [
      "42.82m\n"
     ]
    }
   ],
   "source": [
    "culvert = gpd.read_file(\"new_culvert.gpkg\",crs=\"EPSG:28992\")\n",
    "L = culvert.iloc[0]['length']\n",
    "print(f'{L:.2f}m')"
   ]
  },
  {
   "cell_type": "code",
   "execution_count": 4,
   "id": "1f4cc4d8-1956-4c1c-b606-5d27c3bec029",
   "metadata": {},
   "outputs": [],
   "source": [
    "def zeta_friction(L, D, k, Q):\n",
    "    A = 0.25 * D**2 *np.pi\n",
    "    R = A / (np.pi * D)\n",
    "    u = Q / A\n",
    "    zeta_f = (2 * 9.81 * L) / (k**2 * R**(4/3))\n",
    "    return zeta_f, u"
   ]
  },
  {
   "cell_type": "code",
   "execution_count": 5,
   "id": "093c4640-da19-499e-b33e-788644b42b24",
   "metadata": {},
   "outputs": [
    {
     "name": "stdout",
     "output_type": "stream",
     "text": [
      "with a diameter of 0.2m yields a headloss of 321.34m\n"
     ]
    }
   ],
   "source": [
    "D = 0.2 # m\n",
    "zeta_f, u = zeta_friction(L, D, k, Q)\n",
    "z = (zeta_in + zeta_f + zeta_out) * u**2/(2*9.81)\n",
    "print(f'with a diameter of {D}m yields a headloss of {z:.2f}m')"
   ]
  },
  {
   "cell_type": "code",
   "execution_count": 6,
   "id": "34de5f82-296b-44ae-9e13-3602d774941c",
   "metadata": {},
   "outputs": [
    {
     "name": "stdout",
     "output_type": "stream",
     "text": [
      "with a diameter of 0.4m yields a headloss of 8.95m\n"
     ]
    }
   ],
   "source": [
    "D = 0.4 # m\n",
    "zeta_f, u = zeta_friction(L, D, k, Q)\n",
    "z = (zeta_in + zeta_f + zeta_out) * u**2/(2*9.81)\n",
    "print(f'with a diameter of {D}m yields a headloss of {z:.2f}m')"
   ]
  },
  {
   "cell_type": "markdown",
   "id": "748b2329-df04-4172-bd69-6992a50fd84a",
   "metadata": {},
   "source": [
    "increase to 4 culverts instread of one"
   ]
  },
  {
   "cell_type": "code",
   "execution_count": 7,
   "id": "a20952d1-6893-4134-8f99-2816213daa89",
   "metadata": {},
   "outputs": [
    {
     "name": "stdout",
     "output_type": "stream",
     "text": [
      "with a diameter of 0.8m yields a headloss of 0.02m\n"
     ]
    }
   ],
   "source": [
    "Q = 0.56/4 # m^3/s\n",
    "D = 0.8 # m\n",
    "zeta_f, u = zeta_friction(L, D, k, Q)\n",
    "z = (zeta_in + zeta_f + zeta_out) * u**2/(2*9.81)\n",
    "print(f'with a diameter of {D}m yields a headloss of {z:.2f}m')"
   ]
  },
  {
   "cell_type": "code",
   "execution_count": 8,
   "id": "308d401a-d666-4f4f-9495-f88805ec3e23",
   "metadata": {},
   "outputs": [
    {
     "name": "stdout",
     "output_type": "stream",
     "text": [
      "with a diameter of 1.0m yields a headloss of 6.0465mm\n"
     ]
    }
   ],
   "source": [
    "Q = 0.56/4 # m^3/s\n",
    "D = 1.0 # m\n",
    "zeta_f, u = zeta_friction(L, D, k, Q)\n",
    "z = (zeta_in + zeta_f + zeta_out) * u**2/(2*9.81)\n",
    "print(f'with a diameter of {D}m yields a headloss of {z*1000:.4f}mm')"
   ]
  },
  {
   "cell_type": "code",
   "execution_count": 9,
   "id": "53748997-0a77-4f43-a1ea-3bf9428d01b7",
   "metadata": {},
   "outputs": [
    {
     "name": "stdout",
     "output_type": "stream",
     "text": [
      "with a diameter of 1.1m yields a headloss of 3.8482mm\n"
     ]
    }
   ],
   "source": [
    "Q = 0.56/4 # m^3/s\n",
    "D = 1.1 # m\n",
    "zeta_f, u = zeta_friction(L, D, k, Q)\n",
    "z = (zeta_in + zeta_f + zeta_out) * u**2/(2*9.81)\n",
    "print(f'with a diameter of {D}m yields a headloss of {z*1000:.4f}mm')"
   ]
  },
  {
   "cell_type": "markdown",
   "id": "9298bc24-74fe-4d06-91aa-4561481860dc",
   "metadata": {},
   "source": [
    "Thus we need 4 culverts of 1100mm in diameter to be able to supply the water storage areas with the peak flow. "
   ]
  }
 ],
 "metadata": {
  "kernelspec": {
   "display_name": "Python 3 (ipykernel)",
   "language": "python",
   "name": "python3"
  },
  "language_info": {
   "codemirror_mode": {
    "name": "ipython",
    "version": 3
   },
   "file_extension": ".py",
   "mimetype": "text/x-python",
   "name": "python",
   "nbconvert_exporter": "python",
   "pygments_lexer": "ipython3",
   "version": "3.11.3"
  }
 },
 "nbformat": 4,
 "nbformat_minor": 5
}
