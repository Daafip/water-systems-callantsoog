{
 "cells": [
  {
   "cell_type": "markdown",
   "id": "424f4121",
   "metadata": {},
   "source": [
    "## Small code to calculate y with known: H and Q, and channel geometry"
   ]
  },
  {
   "cell_type": "code",
   "execution_count": 2,
   "id": "79aed873",
   "metadata": {},
   "outputs": [],
   "source": [
    "import numpy as np"
   ]
  },
  {
   "cell_type": "code",
   "execution_count": 9,
   "id": "90b9d293",
   "metadata": {},
   "outputs": [
    {
     "name": "stdout",
     "output_type": "stream",
     "text": [
      "y = 0.7112625250501002\n"
     ]
    }
   ],
   "source": [
    "H = 0.6723   # CHANGE THIS VALUE AND RUN\n",
    "Q = 0.75\n",
    "b = 5\n",
    "m = 1.5\n",
    "g = 9.81\n",
    "\n",
    "y = np.linspace(0.01, 50, 500)\n",
    "\n",
    "for i in range(0, len(y)):\n",
    "    H_test = y[i] + ( (Q / (y[i] * (b + m*y[i]))) ** 2 / (2*g) )\n",
    "    if abs(H_test - H) <= 0.05:\n",
    "        break\n",
    " \n",
    "print(f'y = {y[i]}')"
   ]
  },
  {
   "cell_type": "code",
   "execution_count": 4,
   "id": "95a018db",
   "metadata": {},
   "outputs": [],
   "source": [
    "# # DEFINE CHANNEL PARAMETERS\n",
    "\n",
    "# Q = 0.75 # m^3/s, discharge pump\n",
    "# b = 5 # bed width\n",
    "# m = 1.5 # side slope\n",
    "# S = 0 # bed slope\n",
    "\n",
    "# H_1 = 1 # water level at pump\n",
    "# g = 9.81   # gravity, m/s^2\n",
    "# n = 0.030  # manning, earth, weedy\n",
    "# k = 1 / n # strickler coeff\n",
    "\n",
    "# del_H = 0.01 # m, change in energy depth for backing up"
   ]
  },
  {
   "cell_type": "code",
   "execution_count": 5,
   "id": "97d2da93",
   "metadata": {},
   "outputs": [],
   "source": [
    "\n",
    "# # loop to find velocty in section, v_1\n",
    "# for v_guess in range(0, 1000, 0.001):\n",
    "    \n",
    "#     y_1 = H_1 - (v_guess**2 / (2*g))\n",
    "#     v_1 = Q / (y1*(b + m*y1))\n",
    "#     diff = v_1 - v_guess\n",
    "    \n",
    "#     if diff < 0.05:\n",
    "#         break  \n",
    "        \n",
    "# R = ((b + m*y_1) * y_1) / (b + 2*y_1*np.sqrt(1 + m**2)) \n",
    "# s_1 = v_1**2 / (k**2 * R**(4/3))                         # gradient, water line\n",
    "\n",
    "# H_2 = H_1 + del_H\n",
    "# y_2 = H_2 - (v_1**2 / (2*g)) \n",
    "\n",
    "\n"
   ]
  }
 ],
 "metadata": {
  "kernelspec": {
   "display_name": "Python 3 (ipykernel)",
   "language": "python",
   "name": "python3"
  },
  "language_info": {
   "codemirror_mode": {
    "name": "ipython",
    "version": 3
   },
   "file_extension": ".py",
   "mimetype": "text/x-python",
   "name": "python",
   "nbconvert_exporter": "python",
   "pygments_lexer": "ipython3",
   "version": "3.9.12"
  }
 },
 "nbformat": 4,
 "nbformat_minor": 5
}
